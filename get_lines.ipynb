{
 "cells": [
  {
   "cell_type": "code",
   "execution_count": 1,
   "metadata": {},
   "outputs": [],
   "source": [
    "from sportsbook_spider.helpers import scraper, archive, no_vig_odds\n",
    "from sportsbook_spider.stats import statsNBA\n",
    "from datetime import datetime, timedelta\n",
    "from tqdm import tqdm\n",
    "import numpy as np"
   ]
  },
  {
   "cell_type": "code",
   "execution_count": 2,
   "metadata": {},
   "outputs": [],
   "source": [
    "nba_market_ids = {\n",
    "    'RA': 337,\n",
    "    'REB': 157,\n",
    "    'AST': 151,\n",
    "    'PRA': 338,\n",
    "    'PA': 335,\n",
    "    'PTS': 156,\n",
    "    'PR': 336,\n",
    "    'BLK': 152,\n",
    "    'STL': 160,\n",
    "    'FG3M': 162\n",
    "    }\n",
    "header = {'X-API-Key': 'CHi8Hy5CEE4khd46XNYL23dCFX96oUdw6qOt1Dnh'}"
   ]
  },
  {
   "cell_type": "code",
   "execution_count": 3,
   "metadata": {},
   "outputs": [
    {
     "name": "stdout",
     "output_type": "stream",
     "text": [
      "Getting NBA stats\n"
     ]
    },
    {
     "name": "stderr",
     "output_type": "stream",
     "text": [
      "100%|██████████| 27541/27541 [00:00<00:00, 776505.76it/s]\n"
     ]
    }
   ],
   "source": [
    "nba = statsNBA()\n",
    "nba.load()\n",
    "nba.update()"
   ]
  },
  {
   "cell_type": "code",
   "execution_count": null,
   "metadata": {},
   "outputs": [],
   "source": [
    "players = [(k,p['DISPLAY_FIRST_LAST'],p['PLAYERCODE'].replace('_','-')) for k,p in nba.players.items()]\n",
    "for id, player, code in tqdm(players, unit='player', position=1):\n",
    "    tryJr = False\n",
    "    tryName = False\n",
    "    player_games = [game for game in nba.gamelog if game['PLAYER_ID'] == id]\n",
    "    player = player.replace('alperen-sengun','alperen-sengun-c')\n",
    "    for market, mid in tqdm(list(nba_market_ids.items()), unit='market', position=2):\n",
    "        url = f\"https://api.bettingpros.com/v3/props/analysis?include_no_line_events=false&player_slug={code}&market_id={mid}&location=ALL&sort=desc&sport=NBA&limit=1000\"\n",
    "        try:\n",
    "            res = scraper.get(url, headers=header, max_attempts=2)\n",
    "            props = [(i['event'],i['propOffer']) for i in res['analyses'] if i['propOffer']['season'] == 2022 and i['propOffer']['line']]\n",
    "        except:\n",
    "            if tryJr and tryName:\n",
    "                tqdm.write(f\"Error finding {player}, {market}\")\n",
    "                continue\n",
    "            else:\n",
    "                if not tryJr:\n",
    "                    tryJr = True\n",
    "                    if '-jr' in code:\n",
    "                        code = code.replace('-jr','')\n",
    "                    elif '-iii' in code:\n",
    "                        code = code.replace('-iii','')\n",
    "                    elif '-iv' in code:\n",
    "                        code = code.replace('-iv','')\n",
    "                    else:\n",
    "                        code = code + '-jr'\n",
    "                else:\n",
    "                    tryName = True\n",
    "                    if not code == player.lower().replace(' ','-'):\n",
    "                        code = player.lower().replace(' ','-')                    \n",
    "                    \n",
    "                url = f\"https://api.bettingpros.com/v3/props/analysis?include_no_line_events=false&player_slug={code}&market_id={mid}&location=ALL&sort=desc&sport=NBA&limit=1000\"\n",
    "                try:\n",
    "                    res = scraper.get(url, headers=header, max_attempts=2)\n",
    "                    props = [(i['event'],i['propOffer']) for i in res['analyses'] if i['propOffer']['season'] == 2022 and i['propOffer']['line']]\n",
    "                except:\n",
    "                    tqdm.write(f\"Error finding {player}, {market}\")\n",
    "                    continue\n",
    "        \n",
    "        for event, prop in props:\n",
    "            line = prop['line']\n",
    "            date = (datetime.strptime(event['scheduled'],'%Y-%m-%d %H:%M:%S') - timedelta(hours=5)).strftime('%Y-%m-%d')\n",
    "            odds = [prop['cost'], prop['cost_inverse']]\n",
    "            if 0 in odds:\n",
    "                continue\n",
    "            if prop['recommendation'] == 'under':\n",
    "                odds.reverse()\n",
    "            odds = no_vig_odds(odds[0], odds[1])\n",
    "            game = next((i for i in player_games if i['GAME_DATE'][:10] == date), None)\n",
    "            if game is None:\n",
    "                tqdm.write(f\"Error finding {player}, {market}, {date}\")\n",
    "                continue\n",
    "            stats = nba.get_stats_date(game, market, line)\n",
    "            stats = np.append(stats, [odds[0]]*4)\n",
    "            if not date in archive.archive['NBA'][market]:\n",
    "                archive.archive['NBA'][market][date] = {}\n",
    "            \n",
    "            archive.archive['NBA'][market][date][player] = {line: stats}"
   ]
  },
  {
   "cell_type": "code",
   "execution_count": null,
   "metadata": {},
   "outputs": [],
   "source": [
    "url = f\"https://api.bettingpros.com/v3/props/analysis?include_no_line_events=false&player_slug=justin-jefferson&market_id=105&location=ALL&sort=desc&sport=NFL&limit=1000\"\n",
    "res = scraper.get(url, headers=header)"
   ]
  },
  {
   "cell_type": "code",
   "execution_count": 9,
   "metadata": {},
   "outputs": [
    {
     "data": {
      "text/plain": [
       "{'event_id': 20586,\n",
       " 'market_id': 105,\n",
       " 'player_id': 19236,\n",
       " 'line': 83.5,\n",
       " 'projection': 73.4,\n",
       " 'consensus': 83.5,\n",
       " 'recommendation': 'under',\n",
       " 'best': 15,\n",
       " 'cost': -115,\n",
       " 'diff': -10.1,\n",
       " 'cost_inverse': -113,\n",
       " 'score': 184,\n",
       " 'is_push': False,\n",
       " 'date': '2022-09-11',\n",
       " 'season': 2022,\n",
       " 'season_type': 'REG',\n",
       " 'week': 1}"
      ]
     },
     "execution_count": 9,
     "metadata": {},
     "output_type": "execute_result"
    }
   ],
   "source": [
    "res['analyses'][-1]['propOffer']"
   ]
  }
 ],
 "metadata": {
  "kernelspec": {
   "display_name": "sportsbook-spider-2oeM4XaU-py3.11",
   "language": "python",
   "name": "python3"
  },
  "language_info": {
   "codemirror_mode": {
    "name": "ipython",
    "version": 3
   },
   "file_extension": ".py",
   "mimetype": "text/x-python",
   "name": "python",
   "nbconvert_exporter": "python",
   "pygments_lexer": "ipython3",
   "version": "3.11.3"
  },
  "orig_nbformat": 4
 },
 "nbformat": 4,
 "nbformat_minor": 2
}
