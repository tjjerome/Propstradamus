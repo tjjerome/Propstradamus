{
 "cells": [
  {
   "cell_type": "code",
   "execution_count": 1,
   "metadata": {},
   "outputs": [],
   "source": [
    "import requests"
   ]
  },
  {
   "cell_type": "code",
   "execution_count": 53,
   "metadata": {},
   "outputs": [],
   "source": [
    "params = {\n",
    "    'api_key': '82ccbf28-ddd6-4e37-b3a1-0097b10fd412',\n",
    "    'url': \"https://parlayplay.io/api/v1/crossgame/search/?sport=All&league=\",\n",
    "    'optimize_request': True,\n",
    "    # 'keep_headers': True,\n",
    "}\n",
    "header = {'Accept': 'application/json', 'X-Parlay-Request': '1', 'X-Parlayplay-Platform': 'web',\n",
    "            'X-Csrftoken': 'FoEEn6o8fwxrKIrSzyphlphpVjBAEVZQANmhb2xeMmmRZwvbaDDZt5zGKoXNzrc2',\n",
    "            'User Agent': 'Mozilla/5.0 (Windows NT 10.0; Win64; x64) AppleWebKit/537.36 (KHTML, like Gecko) Chrome/114.0.0.0 Safari/537.36',\n",
    "            'X-Requested-With':'XMLHttpRequest'}\n",
    "headers =[\n",
    "\t\t\t{\n",
    "\t\t\t\t\"name\": \"Accept\",\n",
    "\t\t\t\t\"value\": \"application/json, text/plain, */*\"\n",
    "\t\t\t},\n",
    "\t\t\t{\n",
    "\t\t\t\t\"name\": \"Accept-Encoding\",\n",
    "\t\t\t\t\"value\": \"gzip, deflate, br\"\n",
    "\t\t\t},\n",
    "\t\t\t{\n",
    "\t\t\t\t\"name\": \"Accept-Language\",\n",
    "\t\t\t\t\"value\": \"en-US,en;q=0.5\"\n",
    "\t\t\t},\n",
    "\t\t\t{\n",
    "\t\t\t\t\"name\": \"Connection\",\n",
    "\t\t\t\t\"value\": \"keep-alive\"\n",
    "\t\t\t},\n",
    "\t\t\t{\n",
    "\t\t\t\t\"name\": \"Cookie\",\n",
    "\t\t\t\t\"value\": \"_dd_s=logs=1&id=7f317a9c-1c47-48ee-9883-d508b8ed1ddb&created=1686605421399&expire=1686606446690; sessionid=ng4gtooapia5bjx92o8p71h1te9kaha4\"\n",
    "\t\t\t},\n",
    "\t\t\t{\n",
    "\t\t\t\t\"name\": \"Host\",\n",
    "\t\t\t\t\"value\": \"parlayplay.io\"\n",
    "\t\t\t},\n",
    "\t\t\t{\n",
    "\t\t\t\t\"name\": \"Referer\",\n",
    "\t\t\t\t\"value\": \"https://parlayplay.io/challenges/crossgame/search\"\n",
    "\t\t\t},\n",
    "\t\t\t{\n",
    "\t\t\t\t\"name\": \"Sec-Fetch-Dest\",\n",
    "\t\t\t\t\"value\": \"empty\"\n",
    "\t\t\t},\n",
    "\t\t\t{\n",
    "\t\t\t\t\"name\": \"Sec-Fetch-Mode\",\n",
    "\t\t\t\t\"value\": \"cors\"\n",
    "\t\t\t},\n",
    "\t\t\t{\n",
    "\t\t\t\t\"name\": \"Sec-Fetch-Site\",\n",
    "\t\t\t\t\"value\": \"same-origin\"\n",
    "\t\t\t},\n",
    "\t\t\t{\n",
    "\t\t\t\t\"name\": \"User-Agent\",\n",
    "\t\t\t\t\"value\": \"Mozilla/5.0 (Windows NT 10.0; Win64; x64; rv:109.0) Gecko/20100101 Firefox/114.0\"\n",
    "\t\t\t},\n",
    "\t\t\t{\n",
    "\t\t\t\t\"name\": \"X-CSRFToken\",\n",
    "\t\t\t\t\"value\": \"1\"\n",
    "\t\t\t},\n",
    "\t\t\t{\n",
    "\t\t\t\t\"name\": \"X-Parlay-Request\",\n",
    "\t\t\t\t\"value\": \"1\"\n",
    "\t\t\t},\n",
    "\t\t\t{\n",
    "\t\t\t\t\"name\": \"X-ParlayPlay-Platform\",\n",
    "\t\t\t\t\"value\": \"web\"\n",
    "\t\t\t},\n",
    "\t\t\t{\n",
    "\t\t\t\t\"name\": \"X-Requested-With\",\n",
    "\t\t\t\t\"value\": \"XMLHttpRequest\"\n",
    "\t\t\t}\n",
    "\t\t]\n",
    "header = {}\n",
    "for i in headers:\n",
    "    header[i['name']] = i['value']"
   ]
  },
  {
   "cell_type": "code",
   "execution_count": 54,
   "metadata": {},
   "outputs": [],
   "source": [
    "res=requests.get(\"https://proxy.scrapeops.io/v1/\", params=params, headers=header)"
   ]
  },
  {
   "cell_type": "code",
   "execution_count": 55,
   "metadata": {},
   "outputs": [
    {
     "data": {
      "text/plain": [
       "b'{\"status\":\"Failed to get successful response from website. Please retry the request.\"}'"
      ]
     },
     "execution_count": 55,
     "metadata": {},
     "output_type": "execute_result"
    }
   ],
   "source": [
    "res.content"
   ]
  },
  {
   "cell_type": "code",
   "execution_count": null,
   "metadata": {},
   "outputs": [],
   "source": []
  }
 ],
 "metadata": {
  "kernelspec": {
   "display_name": "Python 3",
   "language": "python",
   "name": "python3"
  },
  "language_info": {
   "codemirror_mode": {
    "name": "ipython",
    "version": 3
   },
   "file_extension": ".py",
   "mimetype": "text/x-python",
   "name": "python",
   "nbconvert_exporter": "python",
   "pygments_lexer": "ipython3",
   "version": "3.11.3"
  },
  "orig_nbformat": 4
 },
 "nbformat": 4,
 "nbformat_minor": 2
}
